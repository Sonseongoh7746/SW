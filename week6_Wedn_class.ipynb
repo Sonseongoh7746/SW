{
 "cells": [
  {
   "cell_type": "markdown",
   "metadata": {
    "id": "r0qORcmgWaC6"
   },
   "source": [
    "# 4장 트리"
   ]
  },
  {
   "cell_type": "code",
   "execution_count": 1,
   "metadata": {
    "id": "vf5rDrYAbmG5"
   },
   "outputs": [],
   "source": [
    "# BinaryTree\n",
    "\n",
    "class BTNode:\n",
    "    def __init__ (self, elem, left=None, right=None):\n",
    "        self.data = elem\n",
    "        self.left = left        # 왼쪽 자식을 위한 링크\n",
    "        self.right = right      # 오른쪽 자식을 위한 링크\n",
    "\n",
    "    def isLeaf(self):\n",
    "        return self.left is None and self.right is None # 수식 트리의 단말 노드 처리\n",
    "\n",
    "def preorder(n) :\n",
    "    if n is not None :\n",
    "        print('(', end=' ')     # 중첩된 괄호 표현을 위한 출력\n",
    "        print(n.data, end=' ')\n",
    "        preorder(n.left)\n",
    "        preorder(n.right)\n",
    "        print(')', end=' ')     # 중첩된 괄호 표현을 위한 출력\n",
    "\n",
    "# 코드 4.3: 이진트리의 중위 순회\n",
    "def inorder(n) :\n",
    "    if n is not None :\n",
    "        inorder(n.left)\n",
    "        print(n.data, end=' ')\n",
    "        inorder(n.right)\n",
    "\n",
    "# 코드 4.4: 이진트리의 후위 순회\n",
    "def postorder(n) :\n",
    "    if n is not None :\n",
    "        postorder(n.left)\n",
    "        postorder(n.right)\n",
    "        print(n.data, end=' ')\n",
    "\n"
   ]
  },
  {
   "cell_type": "code",
   "execution_count": 2,
   "metadata": {
    "id": "BNstXktfVhbZ"
   },
   "outputs": [
    {
     "name": "stdin",
     "output_type": "stream",
     "text": [
      "Enter sentense: SOS\n"
     ]
    },
    {
     "name": "stdout",
     "output_type": "stream",
     "text": [
      "Morse Code : ['...', '---', '...']\n",
      "Decoding : SYS"
     ]
    }
   ],
   "source": [
    "#=========================================================\n",
    "# 모스코드 결정트리\n",
    "#=========================================================\n",
    "# 코드 4.9: 영어 대문자에 대한 모스코드 표\n",
    "table =[('A', '.-'),    ('B', '-...'),  ('C', '-.-.'),  ('D', '-..'),\n",
    "        ('E', '.'),     ('F', '..-.'),  ('G', '--.'),   ('H', '....'),\n",
    "        ('I', '..'),    ('J', '.---'),  ('K', '-.-'),   ('L', '.-..'),\n",
    "        ('M', '--'),    ('N', '-.'),    ('O', '---'),   ('P', '.--.'),\n",
    "        ('Q', '--.-'),  ('R', '.-.'),   ('S', '...'),   ('T', '-'),\n",
    "        ('U', '..-'),   ('V', '...-'),  ('W', '.--'),   ('X', '-..-'),\n",
    "        ('Y', '-.--'),  ('Z', '--..') ]\n",
    "\n",
    "\n",
    "# 코드 4.10: 모스코드 인코딩 함수\n",
    "def encode(ch):\n",
    "    index = ord(ch.upper()) - ord('A')\n",
    "    return table[ index ][1]\n",
    "# 코드 4.11: 단순한 방법의 모스코드 디코딩 함수\n",
    "def decode_simple(morse):\n",
    "    for tp in table:\n",
    "        if morse == tp[1]:\n",
    "            return tp[0]\n",
    "            \n",
    "# 코드 4.12: 모스코드 디코딩을 위한 결정트리 만들기\n",
    "def make_morse_tree():\n",
    "    root = BTNode(None, None, None)\n",
    "    for tp in table:\n",
    "        code = tp[1]\n",
    "        node = root\n",
    "        for c in code:\n",
    "            if c == ',':\n",
    "                if node.left == None:\n",
    "                    node.left = BTNode(None, None, None)\n",
    "                node = node.left\n",
    "            elif c == '-':\n",
    "                if node.right == None:\n",
    "                    node.right = BTNode(None, None, None)\n",
    "                node = node.right\n",
    "        node.data = tp[0]\n",
    "    return root \n",
    "# 코드 4.13: 결정트리를 이용한 디코딩 함수\n",
    "def decode(root, code):\n",
    "    node = root\n",
    "    for c in code:\n",
    "        if c == ',' :\n",
    "            node = node.left\n",
    "        elif c == '-':\n",
    "            node = node.right\n",
    "    return node.data\n",
    "\n",
    "\n",
    "# 코드 4.14: 인코딩과 디코딩 테스트 프로그램\n",
    "morseCodeTree = make_morse_tree()\n",
    "str = input(\"Enter sentense:\")\n",
    "mlist = [] # queue\n",
    "for ch in str:\n",
    "    code = encode(ch)\n",
    "    mlist.append(code)\n",
    "print(\"Morse Code :\", mlist)\n",
    "print(\"Decoding : \", end = '')\n",
    "\n",
    "for code in mlist: \n",
    "    ch = decode(morseCodeTree, code)\n",
    "    print(ch, end = '')\n"
   ]
  },
  {
   "cell_type": "code",
   "execution_count": 3,
   "metadata": {
    "id": "D3tbr_ZPVoiq"
   },
   "outputs": [
    {
     "name": "stdin",
     "output_type": "stream",
     "text": [
      "입력(후위표기):  10 20 + 30 5 / +\n"
     ]
    },
    {
     "name": "stdout",
     "output_type": "stream",
     "text": [
      "토큰분리(expr):  ['10', '20', '+', '30', '5', '/', '+']\n",
      "\n",
      "전위 순회: ( + ( + ( 10.0 ) ( 20.0 ) ) ( / ( 30.0 ) ( 5.0 ) ) ) \n",
      "중위 순회: 10.0 + 20.0 + 30.0 / 5.0 \n",
      "후위 순회: 10.0 20.0 + 30.0 5.0 / + \n",
      "계산 결과 :  36.0\n"
     ]
    }
   ],
   "source": [
    "#=========================================================\n",
    "# 수식 트리\n",
    "#=========================================================\n",
    "\n",
    "# 코드 4.15: 수식트리 계산 함수 : 후위 표기 수식 계산\n",
    "\n",
    "def evaluate(node):\n",
    "    if node is None:\n",
    "        return 0\n",
    "    elif node.isLeaf():\n",
    "        return node.data\n",
    "    else:\n",
    "        op1 = evaluate(node.left)\n",
    "        op2 = evaluate(node.right)\n",
    "        if node.data == '+': return op1 + op2\n",
    "        elif node.data == '-' : return op1 - op2\n",
    "        elif node.data == '*' : return op1 * op2\n",
    "        elif node.data == '/' : return op1 / op2\n",
    "            \n",
    "# 코드 4.16: 후위표기 수식을 이용한 수식트리 만들기\n",
    "def buildETree(expr): # expr은 리스트\n",
    "    if len(expr) == 0:\n",
    "        return None\n",
    "    token = expr.pop()\n",
    "    if token in \"+_*/\":\n",
    "        node = BTNode(token)\n",
    "        node.right = buildETree(expr)\n",
    "        node.left = buildETree(expr)\n",
    "        return node   \n",
    "    else:\n",
    "        return BTNode(float(token))\n",
    "\n",
    "\n",
    "#=========================================================\n",
    "# 코드 4.17: 수식트리 테스트 프로그램\n",
    "\n",
    "str = input(\"입력(후위표기): \")\t\t# 후위표기식 입력\n",
    "expr = str.split()\t\t\t        # 토큰 리스트로 변환\n",
    "print(\"토큰분리(expr): \", expr)\n",
    "root = buildETree(expr)\t\t\t    # 후위표기 --> 수식트리\n",
    "print('\\n전위 순회: ', end=''); preorder(root)\n",
    "print('\\n중위 순회: ', end=''); inorder(root)\n",
    "print('\\n후위 순회: ', end=''); postorder(root)\n",
    "print('\\n계산 결과 : ', evaluate(root))\t# 수식트리 계산"
   ]
  },
  {
   "cell_type": "markdown",
   "metadata": {
    "id": "0L6bD933hGzF"
   },
   "source": [
    "# 5장 알고리즘 개요"
   ]
  },
  {
   "cell_type": "code",
   "execution_count": null,
   "metadata": {
    "id": "bPeJJDzqV1vK"
   },
   "outputs": [],
   "source": [
    "#=========================================================\n",
    "# 코드 5.4: 세 개의 숫자에서 최댓값을 찾는 알고리즘\n",
    "\n"
   ]
  },
  {
   "cell_type": "code",
   "execution_count": null,
   "metadata": {
    "id": "h-OUhbNxVuRQ"
   },
   "outputs": [],
   "source": [
    "#=========================================================\n",
    "# 코드 5.5: time 모듈을 이용한 실행시간 측정 예\n",
    "\n"
   ]
  },
  {
   "cell_type": "code",
   "execution_count": null,
   "metadata": {
    "id": "R8C4zh12V_HJ"
   },
   "outputs": [],
   "source": [
    "#=========================================================\n",
    "# 코드 5.8: 리스트에서 최댓값을 찾는 알고리즘\n",
    "\n",
    "\n",
    "\n",
    "#=========================================================\n",
    "# 코드 5.9: 리스트에서 어떤 값을 찾는 알고리즘\n",
    "\n",
    "\n",
    "\n",
    "\n",
    "######################################\n",
    "# 테스트 프로그램\n"
   ]
  }
 ],
 "metadata": {
  "colab": {
   "provenance": []
  },
  "kernelspec": {
   "display_name": "Python 3 (ipykernel)",
   "language": "python",
   "name": "python3"
  },
  "language_info": {
   "codemirror_mode": {
    "name": "ipython",
    "version": 3
   },
   "file_extension": ".py",
   "mimetype": "text/x-python",
   "name": "python",
   "nbconvert_exporter": "python",
   "pygments_lexer": "ipython3",
   "version": "3.12.1"
  }
 },
 "nbformat": 4,
 "nbformat_minor": 4
}
