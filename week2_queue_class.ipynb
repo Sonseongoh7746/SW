{
 "cells": [
  {
   "cell_type": "code",
   "execution_count": 1,
   "metadata": {
    "id": "7NsLjCIHFpw3"
   },
   "outputs": [
    {
     "name": "stdin",
     "output_type": "stream",
     "text": [
      "문자열 입력:  123456789\n"
     ]
    },
    {
     "name": "stdout",
     "output_type": "stream",
     "text": [
      "문자열 출력: 987654321\n"
     ]
    }
   ],
   "source": [
    "# 코드 1.5: 문자열 역순 출력(파이썬 리스트 이용)\n",
    "\n",
    "s = list()                  \t# 리스트를 객체를 생성해 스택으로 사용\n",
    "\n",
    "msg = input(\"문자열 입력: \")\n",
    "for c in msg :\n",
    "    s.append(c)             \t# c를 스택에 삽입\n",
    "\n",
    "print(\"문자열 출력: \", end='')\n",
    "while len(s) > 0:           \t# 스택이 공백상태가 아니라면\n",
    "    print(s.pop(), end='')  \t# 하나의 요소를 꺼내서 출력\n",
    "print()"
   ]
  },
  {
   "cell_type": "code",
   "execution_count": 2,
   "metadata": {
    "id": "aYsCw9UJBQfL"
   },
   "outputs": [
    {
     "name": "stdin",
     "output_type": "stream",
     "text": [
      "문자열 입력:  1234567\n"
     ]
    },
    {
     "name": "stdout",
     "output_type": "stream",
     "text": [
      "문자열 출력: 7654321\n"
     ]
    }
   ],
   "source": [
    "# 코드 1.6: 문자열 역순 출력(LifoQueue 이용)\n",
    "\n",
    "import queue \t\t\t        # 파이썬의 큐 모듈 포함\n",
    "\n",
    "s = queue.LifoQueue(maxsize=100) # 스택 객체 생성(용량=100)\n",
    "\n",
    "msg = input(\"문자열 입력: \")\n",
    "for c in msg :\n",
    "    s.put(c)\t\t\t\t    # c를 스택에 삽입\n",
    "\n",
    "print(\"문자열 출력: \", end='')\n",
    "while not s.empty():\t\t\t# 스택이 공백상태가 아니라면\n",
    "    print(s.get(), end='')\t\t# 하나의 요소를 꺼내서 출력\n",
    "print()\n",
    "\n"
   ]
  },
  {
   "cell_type": "code",
   "execution_count": 6,
   "metadata": {
    "id": "u7dxsxh5BXvp"
   },
   "outputs": [
    {
     "name": "stdin",
     "output_type": "stream",
     "text": [
      "숫자를 입력하세요 (n>=1): 3\n"
     ]
    },
    {
     "name": "stdout",
     "output_type": "stream",
     "text": [
      "3 != 6\n",
      "3 != 6\n"
     ]
    }
   ],
   "source": [
    "# 코드 1.7: 반복 구조의 팩토리얼 함수\n",
    "\n",
    "def factorial_iter(n) :\n",
    "    result = 1\n",
    "    for k in range(2, n+1) :\t# k: 2, ..., n\n",
    "        result = result * k\t# result에 반복적으로 곱함\n",
    "    return result\n",
    "\n",
    "\n",
    "# 코드 1.8: 순환 구조의 팩토리얼 함수\n",
    "\n",
    "def factorial_recur(n) :\t\t# 순환적으로 구현한 factorial 함수\n",
    "    if n == 1 : return 1\t\t# 종료 조건: 순환을 멈추는 부분\n",
    "    else :\n",
    "        return n * factorial_recur(n - 1)\t# 자신을 순환적으로 호출\n",
    "\n",
    "# 테스트\n",
    "def main():\n",
    "    number = int(input(\"숫자를 입력하세요 (n>=1):\"))\n",
    "    print(number, \"!=\", factorial_iter(number))\n",
    "    print(number, \"!=\", factorial_recur(number))\n",
    "    \n",
    "if __name__ == \"__main__\":\n",
    "    main()"
   ]
  },
  {
   "cell_type": "code",
   "execution_count": 11,
   "metadata": {},
   "outputs": [
    {
     "name": "stdin",
     "output_type": "stream",
     "text": [
      "숫자를 입력하세요 (n>=1): 5\n"
     ]
    },
    {
     "name": "stdout",
     "output_type": "stream",
     "text": [
      "5 th-value = 1\n",
      "5 th-value = 5\n"
     ]
    }
   ],
   "source": [
    "# 반복 구조를 사용한 피보나치 수열 계산\n",
    "def fibo_iter(n ):\n",
    "    if n<=0:\n",
    "        return 0\n",
    "    elif n ==1:\n",
    "        return 1\n",
    "\n",
    "    prev, current =0,1\n",
    "    for _ in range(2, n+1):\n",
    "        prev, current = current, prev + current\n",
    "        \n",
    "        return current\n",
    "\n",
    "def fibo_recur(n):\n",
    "    if n<= 0:\n",
    "        return 0\n",
    "    elif n==1:\n",
    "        return 1\n",
    "        \n",
    "    else:\n",
    "        return fibo_recur(n-1) + fibo_recur(n-2)\n",
    "\n",
    "def main():\n",
    "    number = int(input(\"숫자를 입력하세요 (n>=1):\"))\n",
    "    print(number, \"th-value =\", fibo_iter(number))\n",
    "    print(number, \"th-value =\", fibo_recur(number))\n",
    "    \n",
    "if __name__ == \"__main__\":\n",
    "    main()"
   ]
  },
  {
   "cell_type": "code",
   "execution_count": 14,
   "metadata": {
    "id": "T_LhEl3PBihv"
   },
   "outputs": [
    {
     "name": "stdout",
     "output_type": "stream",
     "text": [
      "큐가 생성되었습니다.\n",
      "Queue: = []\n",
      "\n",
      "요소 삽입 (enqueue) 작업을 수행합니다.\n",
      "Queue: = [10 20 30 ]\n",
      "\n",
      "큐의 현재 크기: 3\n",
      "\n",
      "요소 삭제 (dequeue) 작업을 수행합니다.\n",
      "Queue: = [20 30 ]\n",
      "\n",
      "상단 요소 확인 (peek): 20\n",
      "\n",
      "다시 요소 삽입 (enqueue) 작업을 수행합니다.\n",
      "Queue is full. Cannot enqueue.\n",
      "Queue: = [20 30 40 50 ]\n",
      "\n",
      "큐가 포화 상태인가?: True\n",
      "\n",
      "큐의 현재 크기: 4\n",
      "\n",
      "모든 요소를 삭제합니다.\n",
      "Queue: = []\n",
      "\n",
      "큐가 공백 상태인가?: True\n"
     ]
    }
   ],
   "source": [
    "# 원형 큐 구현: 배열 방식 (전역 변수 사용)\n",
    "    \n",
    "# 전역 변수 선언\n",
    "queue = []\n",
    "front = 0\n",
    "rear = 0\n",
    "capacity = 0\n",
    "\n",
    "def create_queue(c=10):\n",
    "    global queue, front, rear, capacity\n",
    "    capacity = c\n",
    "    queue = [None] * capacity  # 용량에 맞는 배열 생성\n",
    "    front = 0  # 전단 인덱스 초기화\n",
    "    rear = 0   # 후단 인덱스 초기화\n",
    "\n",
    "def is_empty():\n",
    "    global front, rear\n",
    "    return front == rear\n",
    "\n",
    "def is_full():\n",
    "    global front, rear, capacity\n",
    "    return (rear + 1) % capacity == front  # 원형 큐에서는 후단이 전단 바로 앞에 있으면 포화 상태\n",
    "\n",
    "def enqueue(item):\n",
    "    global queue, rear, front, capacity\n",
    "    if not is_full():  # 포화 상태가 아닌 경우\n",
    "        queue[rear] = item\n",
    "        rear = (rear + 1) % capacity  # 후단 인덱스를 순환하도록 처리\n",
    "    else:\n",
    "        print(\"Queue is full. Cannot enqueue.\")\n",
    "\n",
    "def dequeue():\n",
    "    global queue, front, rear, capacity\n",
    "    if not is_empty():  # 공백 상태가 아닌 경우\n",
    "        item = queue[front]\n",
    "        queue[front] = None  # 삭제된 자리 초기화\n",
    "        front = (front + 1) % capacity  # 전단 인덱스를 순환하도록 처리\n",
    "        return item\n",
    "    else:\n",
    "        print(\"Queue is empty. Cannot dequeue.\")\n",
    "        return None\n",
    "\n",
    "def peek():\n",
    "    global queue, front, capacity\n",
    "    if not is_empty():  # 공백 상태가 아닌 경우\n",
    "        return queue[front]\n",
    "    else:\n",
    "        print(\"Queue is empty. Nothing to peek.\")\n",
    "        return None\n",
    "\n",
    "def size():\n",
    "    global front, rear, capacity\n",
    "    return (rear - front + capacity) % capacity  # 원형 큐에서 요소의 개수를 계산\n",
    "\n",
    "def display(msg='Queue:'):\n",
    "    global queue, front, rear, capacity\n",
    "    print(msg, end=' = [')\n",
    "    i = front\n",
    "    while i != rear:\n",
    "        print(queue[i], end=' ')\n",
    "        i = (i + 1) % capacity  # 인덱스를 순환하도록 처리\n",
    "    print(']')\n",
    "\n",
    "# main 함수를 통해 동작 테스트\n",
    "def main():\n",
    "    # 원형큐 생성\n",
    "    create_queue(5)  # 용량 5인 원형 큐 생성\n",
    "    print(\"큐가 생성되었습니다.\")\n",
    "    display()\n",
    "\n",
    "    # 요소 삽입 (enqueue)\n",
    "    print(\"\\n요소 삽입 (enqueue) 작업을 수행합니다.\")\n",
    "    enqueue(10)\n",
    "    enqueue(20)\n",
    "    enqueue(30)\n",
    "    display()\n",
    "\n",
    "    # 큐의 크기 확인\n",
    "    print(\"\\n큐의 현재 크기:\", size())\n",
    "\n",
    "    # 요소 삭제 (dequeue)\n",
    "    print(\"\\n요소 삭제 (dequeue) 작업을 수행합니다.\")\n",
    "    dequeue()\n",
    "    display()\n",
    "\n",
    "    # 큐의 상단 요소 확인 (peek)\n",
    "    print(\"\\n상단 요소 확인 (peek):\", peek())\n",
    "\n",
    "    # 요소 추가 삽입 (enqueue)\n",
    "    print(\"\\n다시 요소 삽입 (enqueue) 작업을 수행합니다.\")\n",
    "    enqueue(40)\n",
    "    enqueue(50)\n",
    "    enqueue(60)  # 큐가 포화 상태일 경우 메시지 출력\n",
    "    display()\n",
    "\n",
    "    # 큐가 포화 상태인지 확인\n",
    "    print(\"\\n큐가 포화 상태인가?:\", is_full())\n",
    "\n",
    "    # 큐의 크기 확인\n",
    "    print(\"\\n큐의 현재 크기:\", size())\n",
    "\n",
    "    # 모든 요소 삭제\n",
    "    print(\"\\n모든 요소를 삭제합니다.\")\n",
    "    dequeue()\n",
    "    dequeue()\n",
    "    dequeue()\n",
    "    dequeue()  # 큐가 공백 상태일 경우 메시지 출력\n",
    "    display()\n",
    "\n",
    "    # 큐가 공백 상태인지 확인\n",
    "    print(\"\\n큐가 공백 상태인가?:\", is_empty())\n",
    "\n",
    "# main 함수 호출\n",
    "if __name__ == \"__main__\":\n",
    "    main()"
   ]
  },
  {
   "cell_type": "markdown",
   "metadata": {},
   "source": [
    "#. OOP방식으로 배열 기반 원형 큐 구현"
   ]
  },
  {
   "cell_type": "code",
   "execution_count": 27,
   "metadata": {},
   "outputs": [
    {
     "name": "stdout",
     "output_type": "stream",
     "text": [
      "초기 상태= [ ]\n",
      "포화 상태= [ 0 96 43 17 61 24 54 ]\n",
      "삭제 순서: 0 96 43 17 61 24 54 "
     ]
    }
   ],
   "source": [
    "class CircularQueue:\n",
    "    def __init__(self, capacity = 10):\n",
    "        self.capacity = capacity\n",
    "        self.queue = [None] * capacity  # 용량에 맞는 배열 생성\n",
    "        self.front = 0  # 전단 인덱스 초기화\n",
    "        self.rear = 0   # 후단 인덱스 초기화\n",
    "\n",
    "    def isFull(self):\n",
    "         return self.front == (self.rear + 1) % self.capacity\n",
    "\n",
    "    def isEmpty(self):\n",
    "        return self.front == self.rear\n",
    "\n",
    "    def enqueue(self, item):\n",
    "        if not self.isFull():  # 포화 상태가 아닌 경우\n",
    "            self.rear = (self.rear + 1) % self.capacity  # 후단 인덱스를 순환하도록 처리\n",
    "            self.queue[self.rear] = item\n",
    "        else:\n",
    "            print(\"Queue is full. Cannot enqueue.\")\n",
    "\n",
    "    def dequeue(self):\n",
    "        if not self.isEmpty():  # 공백 상태가 아닌 경우\n",
    "            self.front = (self.front + 1) % self.capacity  # 전단 인덱스를 순환하도록 처리\n",
    "            return self.queue[self.front]\n",
    "        else:\n",
    "            print(\"Queue is empty. Cannot dequeue.\")\n",
    "            return None\n",
    "\n",
    "    def peek(self):\n",
    "        if not self.isEmpty():\n",
    "            return self.queue[(self.front+1) % self.capacity]\n",
    "\n",
    "    def size(self):\n",
    "        return (self.rear - self.front + self.capacity) % self.capacity\n",
    "    \n",
    "    def display(self, msg='Queue:'):\n",
    "        print(msg, end= '= [ ')\n",
    "        count = self.size()\n",
    "        for i in range(count):\n",
    "                print(self.queue[(self.front + 1 + i) % self.capacity], end=' ')\n",
    "        print(\"]\")\n",
    "            \n",
    "# 문제: 데이터를 랜덤으로 생성하여 생성한 순서로 출력하는 프로그램을 작성하시오.\n",
    "import random\n",
    "if __name__ == \"__main__\":\n",
    "    #1. 큐 객체 생성\n",
    "    q = CircularQueue(8)\n",
    "\n",
    "    #2. 큐의 상태를 출력\n",
    "    q.display(\"초기 상태\")\n",
    "    \n",
    "    #3. 원형 큐에 랜덤으로 데이터 생성해서 저장하기\n",
    "    while not q.isFull():\n",
    "        q.enqueue(random.randint(0, 100)) # 0과 99 사이의 정수 난수 발생\n",
    "\n",
    "    #4. 큐의 상태 출력\n",
    "    q.display(\"포화 상태\")\n",
    "\n",
    "    #5. 큐에 저장된 데이터 출력하기 (FIFO)\n",
    "    print(\"삭제 순서: \", end = '')\n",
    "    while not q.isEmpty():\n",
    "        print(q.dequeue(), end= ' ')\n",
    "\n",
    "\n"
   ]
  }
 ],
 "metadata": {
  "colab": {
   "provenance": []
  },
  "kernelspec": {
   "display_name": "Python 3 (ipykernel)",
   "language": "python",
   "name": "python3"
  },
  "language_info": {
   "codemirror_mode": {
    "name": "ipython",
    "version": 3
   },
   "file_extension": ".py",
   "mimetype": "text/x-python",
   "name": "python",
   "nbconvert_exporter": "python",
   "pygments_lexer": "ipython3",
   "version": "3.12.1"
  }
 },
 "nbformat": 4,
 "nbformat_minor": 4
}
